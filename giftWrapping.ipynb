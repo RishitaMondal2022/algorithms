{
  "nbformat": 4,
  "nbformat_minor": 0,
  "metadata": {
    "colab": {
      "provenance": []
    },
    "kernelspec": {
      "name": "python3",
      "display_name": "Python 3"
    },
    "language_info": {
      "name": "python"
    }
  },
  "cells": [
    {
      "cell_type": "markdown",
      "source": [
        "# Gift Wrapping Algorithm for Convex Hull\n",
        "### This implementation finds the convex hull of a set of randomly generated 2D points."
      ],
      "metadata": {
        "id": "ZVrHlavUl8qB"
      }
    },
    {
      "cell_type": "code",
      "source": [
        "from matplotlib import pyplot as plt\n",
        "from random import randint"
      ],
      "metadata": {
        "id": "xLs7sUjbmGLz"
      },
      "execution_count": 4,
      "outputs": []
    },
    {
      "cell_type": "code",
      "source": [
        "def create_points(ct, min=0, max=50):\n",
        "    \"\"\"Create a list of random 2D points.\"\"\"\n",
        "    return [[randint(min, max), randint(min, max)] for _ in range(ct)]"
      ],
      "metadata": {
        "id": "-X9anPJsmHAH"
      },
      "execution_count": 5,
      "outputs": []
    },
    {
      "cell_type": "code",
      "source": [
        "def leftmost(points):\n",
        "    \"\"\"Find the leftmost point (with the lowest x-coordinate).\"\"\"\n",
        "    minim = 0\n",
        "    for i in range(1, len(points)):\n",
        "        # Compare x-coordinates\n",
        "        if points[i][0] < points[minim][0] or (points[i][0] == points[minim][0] and points[i][1] > points[minim][1]):\n",
        "            minim = i\n",
        "    return minim"
      ],
      "metadata": {
        "id": "GS99dNr3mKUC"
      },
      "execution_count": 6,
      "outputs": []
    },
    {
      "cell_type": "code",
      "source": [
        "def det(p1, p2, p3):\n",
        "    \"\"\"Calculate the determinant for three points.\"\"\"\n",
        "    return (p2[0] - p1[0]) * (p3[1] - p1[1]) - (p2[1] - p1[1]) * (p3[0] - p1[0])"
      ],
      "metadata": {
        "id": "FVh80dUDmOOf"
      },
      "execution_count": 7,
      "outputs": []
    },
    {
      "cell_type": "code",
      "source": [
        "# Create random points\n",
        "num_points = 10\n",
        "points = create_points(num_points)\n",
        "\n",
        "# Initialize variables for convex hull\n",
        "hull = []\n",
        "l = leftmost(points)\n",
        "leftMost = points[l]\n",
        "currentVertex = leftMost\n",
        "hull.append(currentVertex)\n",
        "nextVertex = points[1]\n",
        "index = 2\n",
        "nextIndex = -1"
      ],
      "metadata": {
        "id": "zHM8cw7fjzcE"
      },
      "execution_count": 8,
      "outputs": []
    },
    {
      "cell_type": "code",
      "source": [
        "# Compute the convex hull\n",
        "while True:\n",
        "    c0 = currentVertex\n",
        "    c1 = nextVertex\n",
        "\n",
        "    checking = points[index]\n",
        "    c2 = checking\n",
        "\n",
        "    # Calculate the cross product to determine turn direction\n",
        "    crossProduct = det(currentVertex, nextVertex, checking)\n",
        "    if crossProduct < 0:\n",
        "        nextVertex = checking\n",
        "        nextIndex = index\n",
        "    index += 1\n",
        "    if index == len(points):\n",
        "        if nextVertex == leftMost:\n",
        "            break\n",
        "        index = 0\n",
        "        hull.append(nextVertex)\n",
        "        currentVertex = nextVertex\n",
        "        nextVertex = leftMost"
      ],
      "metadata": {
        "id": "4I05VHQNmW_F"
      },
      "execution_count": 9,
      "outputs": []
    },
    {
      "cell_type": "code",
      "source": [
        "def scatter_plot(coords, convex_hull=None):\n",
        "    \"\"\"Plot the points and convex hull.\"\"\"\n",
        "    xs, ys = zip(*coords)\n",
        "    plt.scatter(xs, ys)\n",
        "\n",
        "    if convex_hull:\n",
        "        for i in range(1, len(convex_hull) + 1):\n",
        "            if i == len(convex_hull):\n",
        "                i = 0  # Wrap around for the last point\n",
        "            c0 = convex_hull[i - 1]\n",
        "            c1 = convex_hull[i]\n",
        "            plt.plot((c0[0], c1[0]), (c0[1], c1[1]), 'r')\n",
        "\n",
        "    plt.show()"
      ],
      "metadata": {
        "id": "wN4f3cpvmSdj"
      },
      "execution_count": 10,
      "outputs": []
    },
    {
      "cell_type": "code",
      "source": [
        "# Visualize the points and convex hull\n",
        "scatter_plot(points, hull)"
      ],
      "metadata": {
        "colab": {
          "base_uri": "https://localhost:8080/",
          "height": 430
        },
        "id": "9LOpPEmTmUnz",
        "outputId": "0260c1b9-4844-42e6-be58-01f88b9b911f"
      },
      "execution_count": 11,
      "outputs": [
        {
          "output_type": "display_data",
          "data": {
            "text/plain": [
              "<Figure size 640x480 with 1 Axes>"
            ],
            "image/png": "[encoded data removed]"
          },
          "metadata": {}
        }
      ]
    },
    {
      "cell_type": "markdown",
      "source": [
        "# References\n",
        "\n",
        "[Computing the Convex Hull in Python |\n",
        "Gift Wrapping algorithm](https://medium.com/@errazkim/computing-the-convex-hull-in-python-60a6087e0faa)"
      ],
      "metadata": {
        "id": "56RVNyq0nNrk"
      }
    }
  ]
}