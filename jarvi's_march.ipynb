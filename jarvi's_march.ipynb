{
  "nbformat": 4,
  "nbformat_minor": 0,
  "metadata": {
    "colab": {
      "provenance": [],
      "toc_visible": true,
      "authorship_tag": "ABX9TyO3qHK3NgZIbsPuK6+zWEWS",
      "include_colab_link": true
    },
    "kernelspec": {
      "name": "python3",
      "display_name": "Python 3"
    },
    "language_info": {
      "name": "python"
    }
  },
  "cells": [
    {
      "cell_type": "markdown",
      "metadata": {
        "id": "view-in-github",
        "colab_type": "text"
      },
      "source": [
        "<a href=\"https://colab.research.google.com/github/RishitaMondal2022/algorithms/blob/main/jarvi's_march.ipynb\" target=\"_parent\"><img src=\"https://colab.research.google.com/assets/colab-badge.svg\" alt=\"Open In Colab\"/></a>"
      ]
    },
    {
      "cell_type": "code",
      "execution_count": 4,
      "metadata": {
        "id": "bEtw5XWA5keY"
      },
      "outputs": [],
      "source": [
        "def orientation(p1,p2,p3):\n",
        "  x1,y1,x2,y2,x3,y3 = *p1 ,*p2,*p3;\n",
        "  d =  (y3-y2)*(x2-x1) - (y2-y1)*(x3-x2)\n",
        "\n",
        "  if d>0:\n",
        "    return 1\n",
        "  elif d<0:\n",
        "    return -1\n",
        "  else:\n",
        "    return 0\n",
        "\n",
        "# orientation((1,2),(3,4),(5,6))"
      ]
    },
    {
      "cell_type": "code",
      "source": [
        "import math\n",
        "def dist(p1,p2):\n",
        "  x1,y1,x2,y2=*p1,*p2\n",
        "  return math.sqrt((y2-y1)**2+(x2-x1)**2)\n"
      ],
      "metadata": {
        "id": "4ArQ2EoNIcPo"
      },
      "execution_count": 5,
      "outputs": []
    },
    {
      "cell_type": "code",
      "source": [
        "def jarvis_march(points):\n",
        "  on_hull = min(points)\n",
        "  hull = []\n",
        "  while True:\n",
        "    hull.append(on_hull)\n",
        "    next_point = points[0]\n",
        "    for point in points:\n",
        "      o = orientation(on_hull , next_point , point)\n",
        "      if (next_point == on_hull or o == 1)or(o == 0  and dist(on_hull,point)>dist(on_hull,next_point)):\n",
        "        next_point = point\n",
        "    on_hull = next_point\n",
        "    if on_hull == hull[0]:\n",
        "      break\n",
        "  print(hull)\n",
        "\n",
        "\n",
        "points = [(5,2),(3,1),(7,0),(5,5),(3,3),(9,6),(0,0),(1,4)]\n",
        "jarvis_march(points)"
      ],
      "metadata": {
        "colab": {
          "base_uri": "https://localhost:8080/"
        },
        "id": "8I5FH4eKFxvA",
        "outputId": "c78d7849-2b59-46b7-d2f1-66a8a91bf08a"
      },
      "execution_count": 6,
      "outputs": [
        {
          "output_type": "stream",
          "name": "stdout",
          "text": [
            "[(0, 0), (1, 4), (9, 6), (7, 0)]\n"
          ]
        }
      ]
    }
  ]
}