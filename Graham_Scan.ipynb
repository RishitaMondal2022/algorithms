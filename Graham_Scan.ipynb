{
  "nbformat": 4,
  "nbformat_minor": 0,
  "metadata": {
    "colab": {
      "provenance": [],
      "authorship_tag": "ABX9TyP+veFlTRUX6SCjKsnwozmZ",
      "include_colab_link": true
    },
    "kernelspec": {
      "name": "python3",
      "display_name": "Python 3"
    },
    "language_info": {
      "name": "python"
    }
  },
  "cells": [
    {
      "cell_type": "markdown",
      "metadata": {
        "id": "view-in-github",
        "colab_type": "text"
      },
      "source": [
        "<a href=\"https://colab.research.google.com/github/RishitaMondal2022/algorithms/blob/main/Graham_Scan.ipynb\" target=\"_parent\"><img src=\"https://colab.research.google.com/assets/colab-badge.svg\" alt=\"Open In Colab\"/></a>"
      ]
    },
    {
      "cell_type": "code",
      "execution_count": 26,
      "metadata": {
        "id": "5a5rNtPpK88v"
      },
      "outputs": [],
      "source": [
        "def orientation(p1,p2,p3):\n",
        "  x1,y1,x2,y2,x3,y3 = *p1 ,*p2,*p3;\n",
        "  d =  (y3-y2)*(x2-x1) - (y2-y1)*(x3-x2)\n",
        "\n",
        "  if d>0:\n",
        "    return 1\n",
        "  elif d<0:\n",
        "    return -1\n",
        "  else:\n",
        "    return 0\n"
      ]
    },
    {
      "cell_type": "code",
      "source": [
        "import math\n",
        "def dist(p1,p2):\n",
        "  x1,y1,x2,y2=*p1,*p2\n",
        "  return math.sqrt((y2-y1)**2+(x2-x1)**2)\n",
        "\n",
        "def polar_angle(p1, p2):\n",
        "    if p1[1] == p2[1]:\n",
        "        return -math.pi\n",
        "    dy = p1[1]-p2[1]\n",
        "    dx = p1[0]-p2[0]\n",
        "    return math.atan2(dy, dx)"
      ],
      "metadata": {
        "id": "7ue7cKwxLkku"
      },
      "execution_count": 27,
      "outputs": []
    },
    {
      "cell_type": "code",
      "source": [
        "def graham_scan(points):\n",
        "  p0 = min(points,key = lambda p : (p[1],p[0]))\n",
        "  points.sort(key = lambda p:(polar_angle(p0,p),dist(p0,p)))\n",
        "  hull = []\n",
        "  for i in range(len(points)):\n",
        "    while len(hull) >= 2 and orientation(hull[-2],hull[-1],points[i]) != 1 :\n",
        "      hull.pop()\n",
        "    hull.append(points[i])\n",
        "  return hull\n",
        "\n",
        "points = [(5,2),(3,1),(7,0),(5,5),(3,3),(9,6),(0,0),(1,4)]\n",
        "graham_scan(points)"
      ],
      "metadata": {
        "colab": {
          "base_uri": "https://localhost:8080/"
        },
        "id": "1FIaJFmgLBq-",
        "outputId": "b417da91-50ed-40ea-b012-5f05b10deeae"
      },
      "execution_count": 28,
      "outputs": [
        {
          "output_type": "execute_result",
          "data": {
            "text/plain": [
              "[(0, 0), (7, 0), (9, 6), (1, 4)]"
            ]
          },
          "metadata": {},
          "execution_count": 28
        }
      ]
    }
  ]
}